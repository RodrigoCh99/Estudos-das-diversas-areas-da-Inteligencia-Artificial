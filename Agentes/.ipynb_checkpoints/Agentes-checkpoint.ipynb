{
 "cells": [
  {
   "cell_type": "markdown",
   "metadata": {},
   "source": [
    "<h1><center>Implementação de um Agente Inteligente</center></h1>"
   ]
  },
  {
   "cell_type": "markdown",
   "metadata": {},
   "source": [
    "##### **Baseado em: https://artint.info/AIPython/**"
   ]
  },
  {
   "cell_type": "markdown",
   "metadata": {},
   "source": [
    "### **Implementando uma classe display para mostrar o Agente e o Ambiente:**"
   ]
  },
  {
   "cell_type": "code",
   "execution_count": 406,
   "metadata": {},
   "outputs": [],
   "source": [
    "# a classe faz um display a quantidade de detalhes e definida por uma variavel\n",
    "class Displayable(object):\n",
    "    \n",
    "    # pode ser sobrescrito em subclasses\n",
    "    nivel_max_display = 1\n",
    "    \n",
    "    # método que imprime os argumentos desde que o nivel seja menor ou igual nivel_max_display \n",
    "    # nivel é um numero inteiro já as outras variaveis são quaisquer argumentos advindos das necessidades\n",
    "    # * tupla de argumentos, ** dicioanrio de argumetos\n",
    "    def display(self, nivel, *agrumentos, **nargumentos):\n",
    "        \n",
    "        if nivel <= nivel_max_display:\n",
    "            \n",
    "            print(*argumentos, **nargumentos)"
   ]
  },
  {
   "cell_type": "code",
   "execution_count": 407,
   "metadata": {},
   "outputs": [],
   "source": [
    "# Função para visualização interativa:\n",
    "def visualização():\n",
    "    \n",
    "    return func"
   ]
  },
  {
   "cell_type": "markdown",
   "metadata": {},
   "source": [
    "## **Definição de um Agente:**"
   ]
  },
  {
   "cell_type": "markdown",
   "metadata": {},
   "source": [
    "#### Um Agente é tudo uqe oide ser considerado capaz de perceber seu ambiente por meio de sensores e de agir sobre esse ambiente por intermedio de atuadores. Para cada sequência de percepções possível, um agente racional deve selecionar uma ação que se espera e que venha maximizar sua medida de desempenho, dada a evidência fornecida pela sequência de percepções e por qualquer conhecimento interno do agente."
   ]
  },
  {
   "cell_type": "code",
   "execution_count": 408,
   "metadata": {},
   "outputs": [],
   "source": [
    "# Implementação da classe do agente:\n",
    "class Agente():\n",
    "    \n",
    "    # método construtor em python:\n",
    "    def __init__(self, ambiente):\n",
    "        \n",
    "        # atributo ambiente de Agente recebe o valor do ambiente inputado:\n",
    "        self.ambiente = ambiente\n",
    "        \n",
    "    # método referente a ação que o agente pratica, com o numero de etapas:\n",
    "    def acao(self, num):\n",
    "        \n",
    "        # Implementação de um erro pois este método é abstrato\n",
    "        raise NotImplementedError(\"Ação\") "
   ]
  },
  {
   "cell_type": "markdown",
   "metadata": {},
   "source": [
    "## **Definição de um Ambiente:**"
   ]
  },
  {
   "cell_type": "markdown",
   "metadata": {},
   "source": [
    "#### tudo que rodeia ou envolve os seres vivos e/ou as coisas. em inteligencia artificial podemos entender , que são essencialmente os “problemas” para os quais os agentes racionais são as “soluções”."
   ]
  },
  {
   "cell_type": "code",
   "execution_count": 409,
   "metadata": {},
   "outputs": [],
   "source": [
    "# Implementação da classe ambiente que descende de display:\n",
    "class Ambiente(Displayable):\n",
    "    \n",
    "    # retorna as percepções iniciais do agente:\n",
    "    def prececao_inicial(self):\n",
    "     \n",
    "        # mensagem de erro:\n",
    "        raise NotImplementedError(\"Percepção Inicial\")   # método abstrato   \n",
    "    \n",
    "    # faz a ação no ambiente e retorna a próxima percepção:\n",
    "    def fazer(self, acao): \n",
    "        \n",
    "        # mensagem de erro:\n",
    "        raise NotImplementedError(\"Fazer Ação:\")   # método abstrato    "
   ]
  },
  {
   "cell_type": "markdown",
   "metadata": {},
   "source": [
    "### **Subclasse de Ambiente:**"
   ]
  },
  {
   "cell_type": "code",
   "execution_count": 410,
   "metadata": {},
   "outputs": [],
   "source": [
    "# Importando uma biblioteca de randomização:\n",
    "import random\n",
    "\n",
    "# Implementação da subclasse de ambiente:\n",
    "class TP_Ambiente(Ambiente):\n",
    "    \n",
    "    # variavel precos que é uma lista:\n",
    "    precos = [234, 234, 234, 234, 255, 255, 275, 275, 211, 211, 211,\n",
    "    234, 234, 234, 234, 199, 199, 275, 275, 234, 234, 234, 234, 255,\n",
    "    255, 260, 260, 265, 265, 265, 265, 270, 270, 255, 255, 260, 260,\n",
    "    265, 265, 150, 150, 265, 265, 270, 270, 255, 255, 260, 260, 265,\n",
    "    265, 265, 265, 270, 270, 211, 211, 255, 255, 260, 260, 265, 265,\n",
    "    260, 265, 270, 270, 205, 255, 255, 260, 260, 265, 265, 265, 265,\n",
    "    270, 270]\n",
    "    \n",
    "    # maximo de valor aleatorio para se obter o preço:\n",
    "    preco_maximo_add = 20 \n",
    "    \n",
    "    # método construtor da classe ambiente\n",
    "    def __init__(self):\n",
    "        \n",
    "        # Agente comprador de papel:\n",
    "        self.tempo = 0\n",
    "        self.estoque = 0\n",
    "        self.historico_estoque = [] # memoria do historico de estoque\n",
    "        self.historico_preco = [] # memoria do historico de preco\n",
    "        \n",
    "    # método que retorna a persepção inicial do ambiente pelo agente  \n",
    "    def percepcao_inicial(self):\n",
    "        \n",
    "        \n",
    "        # A lista do historico armazena o que esta sendo percebido agora\n",
    "        self.historico_estoque.append(self.estoque)\n",
    "        \n",
    "        # o primeiro preço da lista recebe somado a um outro valor da lista e armazenado em preço:\n",
    "        preco = self.precos[0] + random.randrange(self.preco_maximo_add)\n",
    "        \n",
    "        # Então o historico_preco recebe uma atualização dos valores:\n",
    "        self.historico_preco.append(preco)\n",
    "        \n",
    "        # resposta da função:\n",
    "        return {'Preço': preco,\n",
    "                'Em estoque': self.estoque}\n",
    "    \n",
    "    # método que fazr a ação compra e retorna percepções (preço e estoque) \n",
    "    def fazer(self, acao):\n",
    "        \n",
    "        # definindo valores usados\n",
    "        usado = pegador_dicionario({6:0.1, 5:0.1, 4:0.2, 3:0.3, 2:0.2, 1:0.1})\n",
    "        \n",
    "        # definindo no dicionario uma chave comprar:\n",
    "        comprado = acao['Comprar']\n",
    "        \n",
    "        # definindo estoque = estoque anterior + o que foi comprado - usado\n",
    "        self.estoque = self.estoque + comprado - usado\n",
    "        \n",
    "        # atualizando valores no historico estoque:\n",
    "        self.historico_estoque.append(self.estoque)\n",
    "        \n",
    "        # atualizando tempo:\n",
    "        self.tempo += 1\n",
    "        \n",
    "        # Atualização de preço:\n",
    "        preco = ( self.precos[self.tempo % len(self.precos) ] + random.randrange(self.preco_maximo_add) + self.tempo/2)   \n",
    "        \n",
    "        # adicionando preço ao historico de preços\n",
    "        self.historico_preco.append(preco)\n",
    "        \n",
    "        # retorno da função:\n",
    "        return {'Preço': preco,\n",
    "                'Em estoque': self.estoque}"
   ]
  },
  {
   "cell_type": "markdown",
   "metadata": {},
   "source": [
    "### **Função Pegar dicionario:**"
   ]
  },
  {
   "cell_type": "code",
   "execution_count": 411,
   "metadata": {},
   "outputs": [],
   "source": [
    "# função que retorna um valor de uma distribuição:  \n",
    "def pegador_dicionario(item_dicionario_probabilidades):\n",
    "    \n",
    "    # retorna um item escolhido proporcionalmente à sua probabilidade:\n",
    "    randomico = random.random()\n",
    "    \n",
    "    for (item, probabilidade) in item_dicionario_probabilidades.items():\n",
    "        \n",
    "        if randomico < probabilidade:\n",
    "            \n",
    "            return item\n",
    "        \n",
    "        else:\n",
    "            \n",
    "            randomico -= probabilidade\n",
    "    \n",
    "    # mensagem de erro:\n",
    "    raise RuntimeError(str(item_dicionario_probabilidades)+ \"não é uma distribuição de probabilidade\" )"
   ]
  },
  {
   "cell_type": "markdown",
   "metadata": {},
   "source": [
    "### **Subclasse de Agente:**"
   ]
  },
  {
   "cell_type": "code",
   "execution_count": 412,
   "metadata": {},
   "outputs": [],
   "source": [
    "class TP_Agente(Agente):\n",
    "    \n",
    "    # método construtor:\n",
    "    def __init__(self, ambiente):\n",
    "        \n",
    "        # Atributos do agente:\n",
    "        self.ambiente = ambiente\n",
    "        self.gasto = 0\n",
    "        percepcao = ambiente.percepcao_inicial()\n",
    "        self.avercao = percepcao['Preço']\n",
    "        self.ultimo_preco = percepcao['Preço']\n",
    "        self.estoque = percepcao['Em estoque']\n",
    "        \n",
    "    # método de ação do ambiente:  \n",
    "    def fazer(self, n):\n",
    "        \n",
    "        # faz por n rodadas:\n",
    "        for i in range(n):\n",
    "            \n",
    "            if self.ultimo_preco < 0.9*self.avercao and self.estoque < 60:\n",
    "                comprar = 48\n",
    "            \n",
    "            elif self.estoque < 12:\n",
    "                comprar = 12\n",
    "            else:\n",
    "                comprar = 0\n",
    "            \n",
    "            self.gasto += comprar * self.ultimo_preco\n",
    "            percepcao = self.ambiente.fazer({'Comprar': comprar})\n",
    "            \n",
    "            self.ultimo_preco = percepcao['Preço']\n",
    "            self.avercao = self.avercao + (self.ultimo_preco - self.avercao)*0.05\n",
    "            self.estoque = percepcao['Em estoque']     "
   ]
  },
  {
   "cell_type": "markdown",
   "metadata": {},
   "source": [
    "## Objetos:"
   ]
  },
  {
   "cell_type": "code",
   "execution_count": 413,
   "metadata": {},
   "outputs": [],
   "source": [
    "# Objeto ambiente:\n",
    "ambiente = TP_Ambiente()\n",
    "\n",
    "# Objeto Agente:\n",
    "a = TP_Agente(ambiente)"
   ]
  },
  {
   "cell_type": "code",
   "execution_count": 414,
   "metadata": {},
   "outputs": [],
   "source": [
    "# a.fazer(90) \n",
    "# a.gasto/amb.tempo # gasto por tempo"
   ]
  },
  {
   "cell_type": "markdown",
   "metadata": {},
   "source": [
    "## **Visualização:**"
   ]
  },
  {
   "cell_type": "code",
   "execution_count": 415,
   "metadata": {},
   "outputs": [],
   "source": [
    "# Importando biblioteca de visualização:\n",
    "import matplotlib.pyplot as plt"
   ]
  },
  {
   "cell_type": "markdown",
   "metadata": {},
   "source": [
    "## Classe Visualização dos preços:"
   ]
  },
  {
   "cell_type": "code",
   "execution_count": 416,
   "metadata": {},
   "outputs": [],
   "source": [
    "class PlotPrecos(object):\n",
    "    \n",
    "    # método construtor, setando o plot para o historico de preços e numero em estoque:\n",
    "    def __init__(self, agente, ambiente):\n",
    "        \n",
    "        # instanciando os atributos de plotPrecos com agente e ambiente inputados\n",
    "        self.agente = agente\n",
    "        self.ambiente = ambiente\n",
    "        \n",
    "        # plot com matplotlib\n",
    "        plt.ion()\n",
    "        \n",
    "        # definindo o rótulo que ficará na horizontal\n",
    "        plt.xlabel('Tempo')\n",
    "             \n",
    "        # definindo o rótulo que ficará na vertical\n",
    "        plt.ylabel('Numero em estoque.                                              Preço.')\n",
    "    \n",
    "    # plotagem do histórico de preço e estoque\n",
    "    def rodar_plot(self):\n",
    "        \n",
    "        # numero recebe a quantidade de valores em estoque:\n",
    "        num = len(ambiente.historico_estoque)\n",
    "        \n",
    "        # plotagem do estoque no alcance definido exatamente para essa quantidade de valores\n",
    "        plt.plot(range(num), ambiente.historico_estoque, label='Em Estoque')\n",
    "        \n",
    "        # plotagem do estoque no alcance definido exatamente para essa quantidade de valores\n",
    "        plt.plot(range(num), ambiente.historico_preco, label='Preço')\n",
    "        \n",
    "        # caso queira legendas:\n",
    "        # plot.legend(loc=\"upper left\")\n",
    "        \n",
    "        # desenhando o plot na tela\n",
    "        plt.draw()    "
   ]
  },
  {
   "cell_type": "markdown",
   "metadata": {},
   "source": [
    "## **Objeto Visualizavel:**"
   ]
  },
  {
   "cell_type": "code",
   "execution_count": 417,
   "metadata": {
    "scrolled": true
   },
   "outputs": [
    {
     "data": {
      "image/png": "[encoded data removed]",
      "text/plain": [
       "<Figure size 432x288 with 1 Axes>"
      ]
     },
     "metadata": {
      "needs_background": "light"
     },
     "output_type": "display_data"
    }
   ],
   "source": [
    "pl = PlotPrecos(a,ambiente)\n",
    "a.fazer(90); pl.rodar_plot()"
   ]
  },
  {
   "cell_type": "code",
   "execution_count": null,
   "metadata": {},
   "outputs": [],
   "source": []
  }
 ],
 "metadata": {
  "kernelspec": {
   "display_name": "Python 3",
   "language": "python",
   "name": "python3"
  },
  "language_info": {
   "codemirror_mode": {
    "name": "ipython",
    "version": 3
   },
   "file_extension": ".py",
   "mimetype": "text/x-python",
   "name": "python",
   "nbconvert_exporter": "python",
   "pygments_lexer": "ipython3",
   "version": "3.7.3"
  }
 },
 "nbformat": 4,
 "nbformat_minor": 2
}
