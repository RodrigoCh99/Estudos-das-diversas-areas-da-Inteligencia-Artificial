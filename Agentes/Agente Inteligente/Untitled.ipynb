{
 "cells": [
  {
   "cell_type": "markdown",
   "metadata": {},
   "source": [
    "<h1><center>Implementação de um Agente Inteligente</center></h1>"
   ]
  },
  {
   "cell_type": "markdown",
   "metadata": {},
   "source": [
    "## **Implementação de uma classe Coisa da qual as demais classes serão descendentes** "
   ]
  },
  {
   "cell_type": "markdown",
   "metadata": {},
   "source": [
    "## <font color='red'>Anptações:</font>\n",
    "### <font color='red'>O __str__ serve para exibir o objeto para usuário final, usada pelo comando print e pela função str</font>\n",
    "### <font color='red'>O __repr__ serve para exibir o objeto para o programador, usada pelo console do Python e pela funçao repr</font>"
   ]
  },
  {
   "cell_type": "code",
   "execution_count": null,
   "metadata": {},
   "outputs": [],
   "source": [
    "# Esta classe representa qualquer objeto fisico que possa aparecer em um ambiente:\n",
    "class Coisa:\n",
    "    \n",
    "    # Cada coisa pode ter um slot .__ name__ (usado apenas para saída).\n",
    "    return '<{}>'.format()"
   ]
  }
 ],
 "metadata": {
  "kernelspec": {
   "display_name": "Python 3",
   "language": "python",
   "name": "python3"
  },
  "language_info": {
   "codemirror_mode": {
    "name": "ipython",
    "version": 3
   },
   "file_extension": ".py",
   "mimetype": "text/x-python",
   "name": "python",
   "nbconvert_exporter": "python",
   "pygments_lexer": "ipython3",
   "version": "3.7.3"
  }
 },
 "nbformat": 4,
 "nbformat_minor": 2
}
