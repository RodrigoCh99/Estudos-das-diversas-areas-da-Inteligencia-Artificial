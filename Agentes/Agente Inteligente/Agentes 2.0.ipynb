{
 "cells": [
  {
   "cell_type": "markdown",
   "metadata": {},
   "source": [
    "<h1><center>Implementação de um Agente Inteligente</center></h1>"
   ]
  },
  {
   "cell_type": "markdown",
   "metadata": {},
   "source": [
    "##### **Este notebook busca implementar o primeiro exemplo  do livro: Artificial Intelligence: Foundations of Computational Agents,  2nd Edition, a seguir uma tradução simples e com algumas modificações na especificação do exemplo a fim de remover desvios de assunto:**"
   ]
  },
  {
   "cell_type": "markdown",
   "metadata": {},
   "source": [
    "#### **Considere um agente comercial doméstico que monitore o preço de alguma mercadoria (por exemplo, verifique online ofertas especiais e aumentos de preços de papel higiênico) e quanto a família possui em estoque. Ele deve decidir se deseja pedir mais e quanto pedir. As percepções são o preço e a quantidade em estoque. O comando é o número de unidades que o agente decide solicitar (que é zero se o agente não solicitar nenhuma). Um traçado de percepção especifica para cada ponto do tempo (por exemplo, todos os dias) o preço naquele momento e a quantidade em estoque. Um traçado de persepção especifica quanto o agente decide solicitar em cada momento.**"
   ]
  },
  {
   "cell_type": "markdown",
   "metadata": {},
   "source": [
    "![alt text](print_agente1_1.PNG \"Imagem 1\")"
   ]
  },
  {
   "cell_type": "markdown",
   "metadata": {},
   "source": [
    "![alt text](print_agente1_2.PNG \"Imagem 2\")"
   ]
  },
  {
   "cell_type": "markdown",
   "metadata": {},
   "source": [
    "#### **A ação de realmente comprar depende do comando, mas pode ser diferente. Por exemplo, o agente pode emitir um comando para comprar 12 rolos de papel por um preço específico. Isso não significa que o agente realmente compre 12 rolos, pois pode haver problemas de comunicação, a loja pode ficar sem papel ou o preço pode mudar entre a decisão de comprar e a compra. No entanto, neste exemplo, podemos ver que os pedidos de compra são todos executados com sucesso, pois o valor em estoque subiu imediatamente após o pedido de compra.** \n",
    "#### **Uma transdução causal define, para cada espaço de tempo, quanto da mercadoria o agente deve comprar, dependendo do histórico de preços e o histórico de quanto da mercadoria está em estoque (incluindo o preço e a quantidade atuais em estoque) e o histórico anterior de compra.**\n",
    "#### **Para implementar a transdução causal do Exemplo 2.2 , um controlador deve acompanhar o histórico de rolagem dos preços nos 20 dias anteriores. Mantendo o controle da média (média), ele pode atualizar a média usando:**"
   ]
  },
  {
   "cell_type": "markdown",
   "metadata": {},
   "source": [
    "![alt text](agente1.2.PNG \"Imagem 3\")"
   ]
  },
  {
   "cell_type": "markdown",
   "metadata": {},
   "source": [
    "#### **Onde new é o novo preço e old é o preço mais antigo lembrado. Ele pode então descartar o antigo. Ele deve fazer algo especial nos primeiros 20 dias. Um controlador mais simples poderia, em vez de se lembrar de um histórico contínuo, a fim de manter a média, lembrar apenas de uma estimativa contínua da média e usar esse valor como substituto para o item mais antigo. O estado de crença pode então conter um número real (média), com a função de transição de estado:**"
   ]
  },
  {
   "cell_type": "markdown",
   "metadata": {},
   "source": [
    "![alt text](ag3.PNG \"Imagem 4\")"
   ]
  },
  {
   "cell_type": "markdown",
   "metadata": {},
   "source": [
    "#### **Esse controlador é muito mais fácil de implementar e não é tão sensível ao que aconteceu exatamente 20 horas atrás. Na verdade, ele não calcula a média, pois é tendencioso em relação aos dados recentes. Essa maneira de manter estimativas de médias é a base de reinforcement learning.**"
   ]
  },
  {
   "cell_type": "markdown",
   "metadata": {},
   "source": [
    "<h1><center>Resolução</center></h1>"
   ]
  },
  {
   "cell_type": "markdown",
   "metadata": {},
   "source": [
    "### **Implementando uma classe display para mostrar o Agente e o Ambiente:**"
   ]
  },
  {
   "cell_type": "code",
   "execution_count": 53,
   "metadata": {},
   "outputs": [],
   "source": [
    "# a classe faz um display a quantidade de detalhes e definida por uma variavel\n",
    "class Displayable(object):\n",
    "    \n",
    "    # pode ser sobrescrito em subclasses\n",
    "    nivel_max_display = 1\n",
    "    \n",
    "    # método que imprime os argumentos desde que o nivel seja menor ou igual nivel_max_display \n",
    "    # nivel é um numero inteiro já as outras variaveis são quaisquer argumentos advindos das necessidades\n",
    "    # * tupla de argumentos, ** dicioanrio de argumetos\n",
    "    def display(self, nivel, *agrumentos, **nargumentos):\n",
    "        \n",
    "        if nivel <= nivel_max_display:\n",
    "            \n",
    "            print(*argumentos, **nargumentos)"
   ]
  },
  {
   "cell_type": "code",
   "execution_count": 54,
   "metadata": {},
   "outputs": [],
   "source": [
    "# Função para visualização interativa:\n",
    "def visualização():\n",
    "    \n",
    "    return func"
   ]
  },
  {
   "cell_type": "markdown",
   "metadata": {},
   "source": [
    "## **Definição de um Agente:**"
   ]
  },
  {
   "cell_type": "markdown",
   "metadata": {},
   "source": [
    "#### Um Agente é tudo que oide ser considerado capaz de perceber seu ambiente por meio de sensores e de agir sobre esse ambiente por intermedio de atuadores. Para cada sequência de percepções possível, um agente racional deve selecionar uma ação que se espera e que venha maximizar sua medida de desempenho, dada a evidência fornecida pela sequência de percepções e por qualquer conhecimento interno do agente."
   ]
  },
  {
   "cell_type": "code",
   "execution_count": 55,
   "metadata": {},
   "outputs": [],
   "source": [
    "# Implementação da classe do agente:\n",
    "class Agente():\n",
    "    \n",
    "    # método construtor em python:\n",
    "    def __init__(self, ambiente):\n",
    "        \n",
    "        # atributo ambiente de Agente recebe o valor do ambiente inputado:\n",
    "        self.ambiente = ambiente\n",
    "        \n",
    "    # método referente a ação que o agente pratica, com o numero de etapas:\n",
    "    def acao(self, num):\n",
    "        \n",
    "        # Implementação de um erro pois este método é abstrato\n",
    "        raise NotImplementedError(\"Ação\") "
   ]
  },
  {
   "cell_type": "markdown",
   "metadata": {},
   "source": [
    "## **Definição de um Ambiente:**"
   ]
  },
  {
   "cell_type": "markdown",
   "metadata": {},
   "source": [
    "#### tudo que rodeia ou envolve os seres vivos e/ou as coisas. em inteligencia artificial podemos entender , que são essencialmente os “problemas” para os quais os agentes racionais são as “soluções”."
   ]
  },
  {
   "cell_type": "code",
   "execution_count": 56,
   "metadata": {},
   "outputs": [],
   "source": [
    "# Implementação da classe ambiente que descende de display:\n",
    "class Ambiente(Displayable):\n",
    "    \n",
    "    # retorna as percepções iniciais do agente:\n",
    "    def prececao_inicial(self):\n",
    "     \n",
    "        # mensagem de erro:\n",
    "        raise NotImplementedError(\"Percepção Inicial\")   # método abstrato   \n",
    "    \n",
    "    # faz a ação no ambiente e retorna a próxima percepção:\n",
    "    def fazer(self, acao): \n",
    "        \n",
    "        # mensagem de erro:\n",
    "        raise NotImplementedError(\"Fazer Ação:\")   # método abstrato   "
   ]
  },
  {
   "cell_type": "markdown",
   "metadata": {},
   "source": [
    "### **Subclasse de Ambiente:**"
   ]
  },
  {
   "cell_type": "code",
   "execution_count": 57,
   "metadata": {},
   "outputs": [],
   "source": [
    "# Importando uma biblioteca de randomização:\n",
    "import random\n",
    "\n",
    "# Implementação da subclasse de ambiente:\n",
    "class TP_Ambiente(Ambiente):\n",
    "    \n",
    "    # variavel precos que é uma lista:\n",
    "    precos = [234, 234, 234, 234, 255, 255, 275, 275, 211, 211, 211,\n",
    "    234, 234, 234, 234, 199, 199, 275, 275, 234, 234, 234, 234, 255,\n",
    "    255, 260, 260, 265, 265, 265, 265, 270, 270, 255, 255, 260, 260,\n",
    "    265, 265, 150, 150, 265, 265, 270, 270, 255, 255, 260, 260, 265,\n",
    "    265, 265, 265, 270, 270, 211, 211, 255, 255, 260, 260, 265, 265,\n",
    "    260, 265, 270, 270, 205, 255, 255, 260, 260, 265, 265, 265, 265,\n",
    "    270, 270]\n",
    "    \n",
    "    # maximo de valor aleatorio para se obter o preço:\n",
    "    preco_maximo_add = 20 \n",
    "    \n",
    "    # método construtor da classe ambiente\n",
    "    def __init__(self):\n",
    "        \n",
    "        # Agente comprador de papel:\n",
    "        self.tempo = 0\n",
    "        self.estoque = 0\n",
    "        self.historico_estoque = [] # memoria do historico de estoque\n",
    "        self.historico_preco = [] # memoria do historico de preco\n",
    "        \n",
    "    # método que retorna a persepção inicial do ambiente pelo agente  \n",
    "    def percepcao_inicial(self):\n",
    "        \n",
    "        \n",
    "        # A lista do historico armazena o que esta sendo percebido agora\n",
    "        self.historico_estoque.append(self.estoque)\n",
    "        \n",
    "        # o primeiro preço da lista recebe somado a um outro valor da lista e armazenado em preço:\n",
    "        preco = self.precos[0] + random.randrange(self.preco_maximo_add)\n",
    "        \n",
    "        # Então o historico_preco recebe uma atualização dos valores:\n",
    "        self.historico_preco.append(preco)\n",
    "        \n",
    "        # resposta da função:\n",
    "        return {'Preço': preco,\n",
    "                'Em estoque': self.estoque}\n",
    "    \n",
    "    # método que fazr a ação compra e retorna percepções (preço e estoque) \n",
    "    def fazer(self, acao):\n",
    "        \n",
    "        # definindo valores usados\n",
    "        usado = pegador_dicionario({6:0.1, 5:0.1, 4:0.2, 3:0.3, 2:0.2, 1:0.1})\n",
    "        \n",
    "        # definindo no dicionario uma chave comprar:\n",
    "        comprado = acao['Comprar']\n",
    "        \n",
    "        # definindo estoque = estoque anterior + o que foi comprado - usado\n",
    "        self.estoque = self.estoque + comprado - usado\n",
    "        \n",
    "        # atualizando valores no historico estoque:\n",
    "        self.historico_estoque.append(self.estoque)\n",
    "        \n",
    "        # atualizando tempo:\n",
    "        self.tempo += 1\n",
    "        \n",
    "        # Atualização de preço:\n",
    "        preco = ( self.precos[self.tempo % len(self.precos) ] + random.randrange(self.preco_maximo_add) + self.tempo/2)   \n",
    "        \n",
    "        # adicionando preço ao historico de preços\n",
    "        self.historico_preco.append(preco)\n",
    "        \n",
    "        # retorno da função:\n",
    "        return {'Preço': preco,\n",
    "                'Em estoque': self.estoque}"
   ]
  },
  {
   "cell_type": "markdown",
   "metadata": {},
   "source": [
    "### **Função Pegar dicionario:**"
   ]
  },
  {
   "cell_type": "code",
   "execution_count": 58,
   "metadata": {},
   "outputs": [],
   "source": [
    "# função que retorna um valor de uma distribuição:  \n",
    "def pegador_dicionario(item_dicionario_probabilidades):\n",
    "    \n",
    "    # retorna um item escolhido proporcionalmente à sua probabilidade:\n",
    "    randomico = random.random()\n",
    "    \n",
    "    for (item, probabilidade) in item_dicionario_probabilidades.items():\n",
    "        \n",
    "        if randomico < probabilidade:\n",
    "            \n",
    "            return item\n",
    "        \n",
    "        else:\n",
    "            \n",
    "            randomico -= probabilidade\n",
    "    \n",
    "    # mensagem de erro:\n",
    "    raise RuntimeError(str(item_dicionario_probabilidades)+ \"não é uma distribuição de probabilidade\" )"
   ]
  },
  {
   "cell_type": "markdown",
   "metadata": {},
   "source": [
    "### **Subclasse de Agente:**"
   ]
  },
  {
   "cell_type": "code",
   "execution_count": 59,
   "metadata": {},
   "outputs": [],
   "source": [
    "class TP_Agente(Agente):\n",
    "    \n",
    "    # método construtor:\n",
    "    def __init__(self, ambiente):\n",
    "        \n",
    "        # Atributos do agente:\n",
    "        self.ambiente = ambiente\n",
    "        self.gasto = 0\n",
    "        percepcao = ambiente.percepcao_inicial()\n",
    "        self.media = percepcao['Preço']\n",
    "        self.ultimo_preco = percepcao['Preço']\n",
    "        self.estoque = percepcao['Em estoque']\n",
    "        \n",
    "    # método de ação do ambiente:  \n",
    "    def fazer(self, n):\n",
    "        \n",
    "        # faz por n rodadas:\n",
    "        for i in range(n):\n",
    "            \n",
    "            if self.ultimo_preco < 0.9*self.media and self.estoque < 60:\n",
    "                comprar = 48\n",
    "            \n",
    "            elif self.estoque < 12:\n",
    "                comprar = 12\n",
    "            else:\n",
    "                comprar = 0\n",
    "            \n",
    "            self.gasto += comprar * self.ultimo_preco\n",
    "            percepcao = self.ambiente.fazer({'Comprar': comprar})\n",
    "            \n",
    "            self.ultimo_preco = percepcao['Preço']\n",
    "            self.media = self.media + (self.ultimo_preco - self.media)*0.05\n",
    "            self.estoque = percepcao['Em estoque']     "
   ]
  },
  {
   "cell_type": "markdown",
   "metadata": {},
   "source": [
    "## Objetos:"
   ]
  },
  {
   "cell_type": "code",
   "execution_count": 60,
   "metadata": {},
   "outputs": [],
   "source": [
    "# Objeto ambiente:\n",
    "ambiente = TP_Ambiente()\n",
    "\n",
    "# Objeto Agente:\n",
    "a = TP_Agente(ambiente)"
   ]
  },
  {
   "cell_type": "markdown",
   "metadata": {},
   "source": [
    "## **Visualização:**"
   ]
  },
  {
   "cell_type": "code",
   "execution_count": 61,
   "metadata": {},
   "outputs": [],
   "source": [
    "# Importando biblioteca de visualização:\n",
    "import matplotlib.pyplot as plt"
   ]
  },
  {
   "cell_type": "markdown",
   "metadata": {},
   "source": [
    "## Classe Visualização dos preços:"
   ]
  },
  {
   "cell_type": "code",
   "execution_count": 62,
   "metadata": {},
   "outputs": [],
   "source": [
    "class PlotPrecos(object):\n",
    "    \n",
    "    # método construtor, setando o plot para o historico de preços e numero em estoque:\n",
    "    def __init__(self, agente, ambiente):\n",
    "        \n",
    "        # instanciando os atributos de plotPrecos com agente e ambiente inputados\n",
    "        self.agente = agente\n",
    "        self.ambiente = ambiente\n",
    "        \n",
    "        # plot com matplotlib\n",
    "        plt.ion()\n",
    "        \n",
    "        # definindo o rótulo que ficará na horizontal\n",
    "        plt.xlabel('Tempo')\n",
    "             \n",
    "        # definindo o rótulo que ficará na vertical\n",
    "        plt.ylabel('Numero em estoque.                          Preço')\n",
    "    \n",
    "    # plotagem do histórico de preço e estoque\n",
    "    def rodar_plot(self):\n",
    "        \n",
    "        # numero recebe a quantidade de valores em estoque:\n",
    "        num = len(ambiente.historico_estoque)\n",
    "        \n",
    "        # plotagem do estoque no alcance definido exatamente para essa quantidade de valores\n",
    "        plt.plot(range(num), ambiente.historico_estoque, label='Em Estoque')\n",
    "        \n",
    "        # plotagem do estoque no alcance definido exatamente para essa quantidade de valores\n",
    "        plt.plot(range(num), ambiente.historico_preco, label='Preço')\n",
    "               \n",
    "        # desenhando o plot na tela\n",
    "        plt.draw()    "
   ]
  },
  {
   "cell_type": "markdown",
   "metadata": {},
   "source": [
    "## **Objeto Visualizavel:**"
   ]
  },
  {
   "cell_type": "code",
   "execution_count": 63,
   "metadata": {},
   "outputs": [
    {
     "data": {
      "image/png": "[encoded data removed]",
      "text/plain": [
       "<Figure size 432x288 with 1 Axes>"
      ]
     },
     "metadata": {
      "needs_background": "light"
     },
     "output_type": "display_data"
    }
   ],
   "source": [
    "# Intanciando um objeto de visualização \n",
    "pl = PlotPrecos(a,ambiente)\n",
    "\n",
    "# rodando a função:\n",
    "a.fazer(90); pl.rodar_plot()"
   ]
  },
  {
   "cell_type": "markdown",
   "metadata": {},
   "source": [
    "#### Anotação: neste exercicio podemos compreender por meio do output final que o agente inteligente é capaz de tomar decisões com base em informações armazenadas em memória e em sua percepção da realidade a fim de escolher e euxiliar em tarefas humanas. É oportuno ressaltar a interpretação do gráfico final, pois o mesmo mostra as decisões e situações que o agente se deparou em uma escala temporal e como as decisões automatizadas podem auxiliar na resolução de problemas"
   ]
  },
  {
   "cell_type": "code",
   "execution_count": null,
   "metadata": {},
   "outputs": [],
   "source": []
  }
 ],
 "metadata": {
  "kernelspec": {
   "display_name": "Python 3",
   "language": "python",
   "name": "python3"
  },
  "language_info": {
   "codemirror_mode": {
    "name": "ipython",
    "version": 3
   },
   "file_extension": ".py",
   "mimetype": "text/x-python",
   "name": "python",
   "nbconvert_exporter": "python",
   "pygments_lexer": "ipython3",
   "version": "3.7.3"
  }
 },
 "nbformat": 4,
 "nbformat_minor": 2
}
